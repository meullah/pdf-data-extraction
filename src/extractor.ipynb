{
 "cells": [
  {
   "cell_type": "code",
   "execution_count": 8,
   "id": "ac871a02",
   "metadata": {},
   "outputs": [],
   "source": [
    "import re\n",
    "import pdfplumber\n",
    "# from PyPDF2 import PdfReader"
   ]
  },
  {
   "cell_type": "code",
   "execution_count": 9,
   "id": "621f4fbf",
   "metadata": {},
   "outputs": [],
   "source": [
    "with pdfplumber.open('../raw/Grand livre_2021.pdf') as pdf:\n",
    "    page = pdf.pages[1]\n",
    "    text = page.extract_text()"
   ]
  },
  {
   "cell_type": "code",
   "execution_count": 10,
   "id": "531dc2af",
   "metadata": {},
   "outputs": [],
   "source": [
    "text = text.splitlines()\n",
    "# text"
   ]
  },
  {
   "cell_type": "code",
   "execution_count": 19,
   "id": "f9e76b16",
   "metadata": {
    "scrolled": true
   },
   "outputs": [
    {
     "name": "stdout",
     "output_type": "stream",
     "text": [
      "3260000000 Marchandises\n",
      "4011BODRYALE BODRY Alex\n",
      "4011CAISSE CAISSE CLIENTS\n",
      "4011CETRELCAI CLIENTS CETREL\n",
      "4011CLEES CLEES\n",
      "4011CREAIMMO CREAIMMO SARL\n",
      "4011FDL FONDS DU LOGEMENT\n"
     ]
    }
   ],
   "source": [
    "accountNumberExp = re.compile(r'\\s\\s\\d{4,10}[a-zA-Z]*')\n",
    "debitCreditLineExtractExp = re.compile(r'^\\s+TOTAL COMPTE.*')\n",
    "debet_credit_regix = re.compile(r'(-?\\d*\\s?\\d*,\\d*)+')\n",
    "for line in text:\n",
    "    if accountNumberExp.search(line):\n",
    "        accNumber, *accName = line.strip().split(' ')\n",
    "        accDesc = ' '.join(accName).strip()\n",
    "        print(accNumber, accDesc)\n",
    "        \n",
    "        "
   ]
  },
  {
   "cell_type": "code",
   "execution_count": 18,
   "id": "fa0ccb24",
   "metadata": {},
   "outputs": [
    {
     "name": "stdout",
     "output_type": "stream",
     "text": [
      "     TOTAL COMPTE 2238190000                Solde compte créditeur 68 102,10 -68 102,10\n",
      "     TOTAL COMPTE 3260000000                Solde compte débiteur 6 690,00 6 690,00\n",
      "     TOTAL COMPTE 4011BODRYALE                Compte soldé 4 370,27 4 370,27\n",
      "     TOTAL COMPTE 4011CAISSE                Compte soldé 613,35 613,35\n",
      "     TOTAL COMPTE 4011CETRELCAI                Compte soldé 169,40 169,40\n",
      "     TOTAL COMPTE 4011CLEES                Compte soldé 3 482,18 3 482,18\n",
      "     TOTAL COMPTE 4011CREAIMMO                Compte soldé 5 500,00 5 500,00\n"
     ]
    }
   ],
   "source": [
    "for line in text:\n",
    "    if debitCreditLineExtractExp.search(line):\n",
    "        print(line)"
   ]
  },
  {
   "cell_type": "code",
   "execution_count": 9,
   "id": "f284e1f4",
   "metadata": {},
   "outputs": [
    {
     "data": {
      "text/plain": [
       "[' 613,35']"
      ]
     },
     "execution_count": 9,
     "metadata": {},
     "output_type": "execute_result"
    }
   ],
   "source": [
    "debet_credit_regix = re.compile(r'(-?\\d*\\s?\\d*,\\d*)+')\n",
    "s = '     TOTAL COMPTE 4011CAISSE                Compte soldé 613,35 613,35'\n",
    "debet_credit_regix.findall(s)"
   ]
  },
  {
   "cell_type": "code",
   "execution_count": 13,
   "id": "bbb437a5",
   "metadata": {},
   "outputs": [
    {
     "data": {
      "text/plain": [
       "['Dossier : PEINTURES NEISIUS SARL_20210730 [co Grand livre Le 31.12.2021',\n",
       " \"N° Journal Date N° Libellé de l'écriture S Montant Lett. Montant Solde\",\n",
       " 'Mvt de pièce débit crédit cumulé',\n",
       " '5015 AN 01.01.2021 40 REOUVERTURE AU 01.01.2021 S 68 102,10 -68 102,10',\n",
       " '     TOTAL COMPTE 2238190000                Solde compte créditeur 68 102,10 -68 102,10',\n",
       " 'TOTAL CLASSE 2 138 722,64 138 722,37 0,27',\n",
       " '          3260000000    Marchandises',\n",
       " '5015 AN 01.01.2021 40 REOUVERTURE AU 01.01.2021 S 6 690,00 6 690,00',\n",
       " '     TOTAL COMPTE 3260000000                Solde compte débiteur 6 690,00 6 690,00',\n",
       " 'TOTAL CLASSE 3 6 690,00 6 690,00',\n",
       " '          4011BODRYALE    BODRY Alex',\n",
       " '4941 BLU43 31.05.2021 99 BODRY Alex 210055 B AAA 4 370,27 -4 370,27',\n",
       " '4910 V 31.05.2021 151181 BODRY Alex 210055 B 4 370,27 AAA',\n",
       " '     TOTAL COMPTE 4011BODRYALE                Compte soldé 4 370,27 4 370,27',\n",
       " '          4011CAISSE    CAISSE CLIENTS',\n",
       " '5015 AN 01.01.2021 40 CAISSE CLIENTS MODESTO S 170,00 170,00',\n",
       " '4714 CS 29.01.2021 1112 CAISSE CLIENTS SANDRA B AQT 46,95 123,05',\n",
       " '4714 CS 29.01.2021 1112 CAISSE CLIENTS SANDRA B AQS 3,66 119,39',\n",
       " '4714 CS 29.01.2021 1112 CAISSE CLIENTS SANDRA B AQR 36,68 82,71',\n",
       " '4715 BLU43 31.01.2021 95 CAISSE CLIENTS MODESTO B AQX 170,00 -87,29',\n",
       " '4711 V 19.01.2021 151129 CAISSE CLIENTS SANDRA B 36,68 AQR -50,61',\n",
       " '4712 V 19.01.2021 151130 CAISSE CLIENTS SANDRA B 3,66 AQS -46,95',\n",
       " '4713 V 13.01.2021 151131 CAISSE CLIENTS SANDRA B 46,95 AQT',\n",
       " '4783 CS 02.02.2021 1126 CAISSE CLIENTS B AQV 92,66 -92,66',\n",
       " '4782 V 28.02.2021 151144 CAISSE CLIENTS B 92,66 AQV',\n",
       " '4907 CS 31.03.2021 1172 CAISSE CLIENTS B AQW 190,46 -190,46',\n",
       " '4835 V 09.03.2021 151163 CAISSE CLIENTS B 190,46 AQW',\n",
       " '4992 CS 16.06.2021 1186 CAISSE CLIENTS B AQY 66,76 -66,76',\n",
       " '4992 CS 16.06.2021 1186 CAISSE CLIENTS B AQZ 6,18 -72,94',\n",
       " '4990 V 18.06.2021 151199 CAISSE CLIENTS B 66,76 AQY -6,18',\n",
       " '4991 V 18.06.2021 151200 CAISSE CLIENTS B 6,18 AQZ',\n",
       " '     TOTAL COMPTE 4011CAISSE                Compte soldé 613,35 613,35',\n",
       " '          4011CETRELCAI    CLIENTS CETREL',\n",
       " '4728 BLU05 22.01.2021 1121 CLIENTS CETREL B AOP 27,63 -27,63',\n",
       " '4731 BLU05 28.01.2021 1124 CLIENTS CETREL LORANG B AOO 83,16 -110,79',\n",
       " '4709 V 27.01.2021 151127 CLIENTS CETREL LORANG B 83,16 AOO -27,63',\n",
       " '4710 V 20.01.2021 151128 CLIENTS CETREL B 27,63 AOP',\n",
       " '4838 BLU05 03.03.2021 1144 CLIENTS CETREL B AOQ 37,45 -37,45',\n",
       " '4834 V 02.03.2021 151162 CLIENTS CETREL B 37,45 AOQ',\n",
       " '4998 BLU05 10.06.2021 1191 CLIENTS CETREL B AOS 21,16 -21,16',\n",
       " '4999 V 10.06.2021 151201 CLIENTS CETREL B 21,16 AOS',\n",
       " '     TOTAL COMPTE 4011CETRELCAI                Compte soldé 169,40 169,40',\n",
       " '          4011CLEES    CLEES',\n",
       " '4941 BLU43 31.05.2021 99 CLEES 210051 B AAA 1 207,44 -1 207,44',\n",
       " '4941 BLU43 31.05.2021 99 CLEES 210052 B AAB 2 274,74 -3 482,18',\n",
       " '4914 V 25.05.2021 151185 CLEES 210051 B 1 207,44 AAA -2 274,74',\n",
       " '4915 V 18.05.2021 151186 CLEES 210052 B 2 274,74 AAB',\n",
       " '     TOTAL COMPTE 4011CLEES                Compte soldé 3 482,18 3 482,18',\n",
       " '          4011CREAIMMO    CREAIMMO SARL',\n",
       " '5014 BLU43 30.06.2021 100 CREAIMMO SARL 210063 B AAA 5 500,00 -5 500,00',\n",
       " '4975 V 11.06.2021 151197 CREAIMMO SARL 210063 B 5 500,00 AAA',\n",
       " '     TOTAL COMPTE 4011CREAIMMO                Compte soldé 5 500,00 5 500,00',\n",
       " '          4011FDL    FONDS DU LOGEMENT',\n",
       " '5015 AN 01.01.2021 40 (V) FONDS DU LOGEMENT 190100 S 407,16 407,16',\n",
       " '5015 AN 01.01.2021 40 FONDS DU LOGEMENT 200069 S 4 685,48 5 092,64',\n",
       " '5015 AN 01.01.2021 40 FONDS DU LOGEMENT 200088 S 12 441,12 17 533,76',\n",
       " '5015 AN 01.01.2021 40 FONDS DU LOGEMENT 200090 S 6 933,86 24 467,62',\n",
       " '5015 AN 01.01.2021 40 FONDS DU LOGEMENT 200092 S 2 242,93 26 710,55',\n",
       " '4687 V 26.01.2021 151125 FONDS DU LOGEMENT 210002 B 5 329,10 ATF 32 039,65',\n",
       " '4688 V 26.01.2021 151126 FONDS DU LOGEMENT 210003 B 10 416,78 ATG 42 456,43',\n",
       " 'Le 24.01.2022 à 18:34 Doc : Grand livre',\n",
       " 'Imprimante : Canon TS9500 series Poste : DESKTOP-K8885AJ',\n",
       " 'Ciel Account Pro (24.0) Page : 2/31 Folio : 1 / 0',\n",
       " '© Sage']"
      ]
     },
     "execution_count": 13,
     "metadata": {},
     "output_type": "execute_result"
    }
   ],
   "source": [
    "text"
   ]
  },
  {
   "cell_type": "code",
   "execution_count": null,
   "id": "f0de1c24",
   "metadata": {},
   "outputs": [],
   "source": []
  }
 ],
 "metadata": {
  "kernelspec": {
   "display_name": "Python 3",
   "language": "python",
   "name": "python3"
  },
  "language_info": {
   "codemirror_mode": {
    "name": "ipython",
    "version": 3
   },
   "file_extension": ".py",
   "mimetype": "text/x-python",
   "name": "python",
   "nbconvert_exporter": "python",
   "pygments_lexer": "ipython3",
   "version": "3.10.3"
  }
 },
 "nbformat": 4,
 "nbformat_minor": 5
}
