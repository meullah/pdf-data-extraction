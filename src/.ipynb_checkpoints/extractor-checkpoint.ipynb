{
 "cells": [
  {
   "cell_type": "code",
   "execution_count": 1,
   "id": "ac871a02",
   "metadata": {},
   "outputs": [],
   "source": [
    "import re\n",
    "import pdfplumber\n",
    "# from PyPDF2 import PdfReader"
   ]
  },
  {
   "cell_type": "code",
   "execution_count": 24,
   "id": "621f4fbf",
   "metadata": {},
   "outputs": [],
   "source": [
    "with pdfplumber.open('../raw/Grand livre_2021.pdf') as pdf:\n",
    "    page = pdf.pages[0]\n",
    "    text = page.extract_text()"
   ]
  },
  {
   "cell_type": "code",
   "execution_count": 25,
   "id": "531dc2af",
   "metadata": {},
   "outputs": [],
   "source": [
    "text = text.splitlines()"
   ]
  },
  {
   "cell_type": "code",
   "execution_count": 37,
   "id": "f9e76b16",
   "metadata": {},
   "outputs": [
    {
     "name": "stdout",
     "output_type": "stream",
     "text": [
      "1010000000 \t 0 \t \t 5000000 \t \t -5000000\n",
      "1310000000 \t 0 \t \t 337933 \t \t -337933\n",
      "1381000000 \t 0 \t \t 294500 \t \t -294500\n",
      "1410000000 \t 7304513 \t \t 0 \t \t 7304513\n",
      "2121300000 \t 100000 \t \t 0 \t \t 100000\n",
      "2121310000 \t 158800 \t \t 0 \t \t 158800\n",
      "2121390000 \t 0 \t \t 258798 \t \t -258798\n",
      "2232000000 \t 1589339 \t \t 0 \t \t 1589339\n",
      "2232090000 \t 0 \t \t 1589335 \t \t -1589335\n",
      "2234000000 \t 4724926 \t \t 0 \t \t 4724926\n",
      "2234090000 \t 0 \t \t 4724923 \t \t -4724923\n",
      "2235000000 \t 488976 \t \t 0 \t \t 488976\n",
      "2235090000 \t 0 \t \t 488971 \t \t -488971\n",
      "2238100000 \t 6810223 \t \t 0 \t \t 6810223\n"
     ]
    }
   ],
   "source": [
    "accountNumberExp = re.compile(r'\\s\\s\\d{4,10}[a-zA-Z]*')\n",
    "debitCreditLineExtractExp = re.compile(r'\\s*TOTAL COMPTE.*')\n",
    "debet_credit_regix = re.compile(r'(-?\\d*\\s?\\d*,\\d*)+')\n",
    "for line in text:\n",
    "    if accountNumberExp.search(line):\n",
    "        accNumber, *accName = line.strip().split(' ')\n",
    "        accName = ' '.join(accName).strip()\n",
    "#         print(accNumber, accName)\n",
    "    \n",
    "    if debitCreditLineExtractExp.search(line):\n",
    "        numbers = debet_credit_regix.findall(line)\n",
    "#         print(line)\n",
    "#         print(numbers)\n",
    "        numbers = [int(num.replace(',','').replace(' ','')) for num in numbers]\n",
    "        \n",
    "        if len(numbers)==3:\n",
    "            debit = numbers[0]\n",
    "            credit = numbers[1]\n",
    "            total = numbers[2]\n",
    "        elif len(numbers)==2:\n",
    "            if numbers[1] == numbers[0]:\n",
    "                debit = numbers[0]\n",
    "                credit = 0\n",
    "                total = numbers[1]\n",
    "            else:\n",
    "                debit = 0\n",
    "                credit = numbers[0]\n",
    "                total = numbers[1]\n",
    "        elif len(numbers)==1:\n",
    "                debit = numbers[0]\n",
    "                credit = numbers[0]\n",
    "                total = 0\n",
    "        else:\n",
    "            debit = 'NA'\n",
    "            credit = 'NA'\n",
    "            total = 'NA'\n",
    "        \n",
    "#         print(line)\n",
    "        print(accNumber, '\\t',  debit, '\\t', '\\t', credit, '\\t', '\\t', total)\n",
    "        \n",
    "        "
   ]
  },
  {
   "cell_type": "code",
   "execution_count": 23,
   "id": "f284e1f4",
   "metadata": {},
   "outputs": [
    {
     "data": {
      "text/plain": [
       "[' 613,35']"
      ]
     },
     "execution_count": 23,
     "metadata": {},
     "output_type": "execute_result"
    }
   ],
   "source": [
    "debet_credit_regix = re.compile(r'(-?\\d*\\s?\\d*,\\d*)+')\n",
    "s = '     TOTAL COMPTE 4011CAISSE                Compte soldé 613,35 613,35'\n",
    "debet_credit_regix.findall(s)"
   ]
  },
  {
   "cell_type": "code",
   "execution_count": null,
   "id": "72f99565",
   "metadata": {},
   "outputs": [],
   "source": []
  }
 ],
 "metadata": {
  "kernelspec": {
   "display_name": "Python 3",
   "language": "python",
   "name": "python3"
  },
  "language_info": {
   "codemirror_mode": {
    "name": "ipython",
    "version": 3
   },
   "file_extension": ".py",
   "mimetype": "text/x-python",
   "name": "python",
   "nbconvert_exporter": "python",
   "pygments_lexer": "ipython3",
   "version": "3.10.3"
  }
 },
 "nbformat": 4,
 "nbformat_minor": 5
}
