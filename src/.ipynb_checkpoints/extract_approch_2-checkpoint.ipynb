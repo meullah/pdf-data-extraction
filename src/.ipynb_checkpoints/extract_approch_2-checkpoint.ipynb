{
 "cells": [
  {
   "cell_type": "code",
   "execution_count": 56,
   "id": "061b06ee",
   "metadata": {},
   "outputs": [],
   "source": [
    "import re\n",
    "import camelot\n",
    "import numpy as np\n",
    "import pandas as pd\n",
    "from collections import namedtuple"
   ]
  },
  {
   "cell_type": "code",
   "execution_count": null,
   "id": "01615f9d",
   "metadata": {},
   "outputs": [],
   "source": [
    "pdfFile_path = '../raw/Grand livre_2021.pdf'\n",
    "outputfileName = 'parced_data.csv' # you can specify complete path"
   ]
  },
  {
   "cell_type": "code",
   "execution_count": 2,
   "id": "3e0f614a",
   "metadata": {},
   "outputs": [],
   "source": [
    "tables=camelot.read_pdf('../raw/Grand livre_2021.pdf',pages='all',flavor='stream',edge_tol=500)"
   ]
  },
  {
   "cell_type": "code",
   "execution_count": 3,
   "id": "3f90eed9",
   "metadata": {},
   "outputs": [],
   "source": [
    "dataframes = []\n",
    "for i in range(len(tables)):\n",
    "    dataframes.append(tables[i].df)"
   ]
  },
  {
   "cell_type": "code",
   "execution_count": 4,
   "id": "b9a77c70",
   "metadata": {},
   "outputs": [],
   "source": [
    "df = pd.concat(dataframes)\n",
    "df = df.applymap(lambda x: x.strip() if isinstance(x, str) else x)\n",
    "df = df.applymap(lambda x: x.replace('\\n','==') if isinstance(x, str) else x)\n",
    "df = df.applymap(lambda x: x.replace(' ','_') if isinstance(x, str) else x)\n",
    "df = df.applymap(lambda x: np.NaN if x == '' else x)"
   ]
  },
  {
   "cell_type": "code",
   "execution_count": 57,
   "id": "e152c207",
   "metadata": {},
   "outputs": [],
   "source": [
    "data  = namedtuple('data','accNumber N_Mvt Journal Date Piece_Number S Reference Debit Credit Total')"
   ]
  },
  {
   "cell_type": "code",
   "execution_count": 6,
   "id": "d86e9aa4",
   "metadata": {},
   "outputs": [],
   "source": [
    "rows = df.to_string(header=False,\n",
    "                   index=False,\n",
    "                   index_names=False).split('\\n')\n",
    "\n",
    "\n",
    "text = ['|'.join(element.split()) for element in rows]\n",
    "for i in range(len(text)):\n",
    "    text[i] = text[i].replace('_',' ')\n",
    "    text[i] = text[i].replace('==','|')"
   ]
  },
  {
   "cell_type": "code",
   "execution_count": 68,
   "id": "f9392e5b",
   "metadata": {},
   "outputs": [],
   "source": [
    "accountNumberExp = re.compile(r'^\\s*\\d{6,10}\\s*[a-zA-Z]*')\n",
    "magic_regex = re.compile(r\"^(NaN|\\d{4})\\|([A-Z0-9]{1,5})\\|(\\d{2}.\\d{2}.\\d{4})\\|(\\d{2,6}|NaN)\\|[NaN\\|]*([-A-Za-zàâçéè' (\\[)êëîïôûùüÿñæœ0-9/.+%–&’]{2,})\\|([A-Z])\\|([-]*\\d*\\s*\\d*,\\d*|NaN).*\")                                                     \n",
    "credit_total = re.compile(r'([-]*\\d*\\s*\\d*,\\d*|NaN)\\|([-]*\\d*\\s*\\d*,\\d*)[\\|NaN]*$')\n",
    "debit_regex = re.compile(r'\\|[A-Z]\\|([-]*\\d*\\s*\\d*,\\d*)')\n",
    "credit_regex = re.compile(r'\\|[A-Z]{1,}\\|([-]*\\d*\\s*\\d*,\\d*)')\n",
    "total_compete = re.compile(r'^.*TOTAL COMPTE.*')\n",
    "total_credit_debit_1 = re.compile(r\"\\|((?![N])[-A-Za-zàâçéè' (\\[)êëîïôûùüÿñæœ/.+%–&’]{2,})\\|NaN\\|([-]*\\d*\\s*\\d*,\\d*|NaN)\\|NaN\\|([-]*\\d*\\s*\\d*,\\d*|NaN)\\|([-]*\\d*\\s*\\d*,\\d*|NaN)\")\n",
    "no_total_credit_debit_2 = re.compile(r\"\\|((?![N])[-A-Za-zàâçéè' (\\[)êëîïôûùüÿñæœ/.+%–&’]{2,})\\|[Na\\|]*([-]*\\d*\\s*\\d*,\\d*|NaN)\\|NaN\\|([-]*\\d*\\s*\\d*,\\d*|NaN)\\|\")\n",
    "\n",
    "accNumber = '' # account number\n",
    "accDesc = ''   # account description\n",
    "pdfData = []\n",
    "\n",
    "for line in text:\n",
    "\n",
    "    N_Mvt = np.NaN\n",
    "    Journal = np.NaN\n",
    "    Date = np.NaN\n",
    "    Piece_Number = np.NaN\n",
    "    Reference = np.NaN\n",
    "    S = np.NaN\n",
    "    Debit = np.NaN\n",
    "    Credit = np.NaN\n",
    "    Total = np.NaN\n",
    "    \n",
    "    res = magic_regex.search(line)  # from line extract ==> accNumber,N_Mvt,Journal,Date,Piece_Number,Reference,S,Debit\n",
    "    res2 = credit_total.search(line) # extract Credit and Total from line\n",
    "    res3 = total_compete.search(line) # check if the line starts from TOTAL COMPETE (we will process it differently)\n",
    "    \n",
    "    if accountNumberExp.search(line):\n",
    "        _line = line.replace('NaN','').replace('|','')\n",
    "        accNumber, *accName = _line.strip().split(' ')\n",
    "        accDesc = ' '.join(accName).strip()\n",
    "        \n",
    "    if res:\n",
    "        N_Mvt = res.group(1)\n",
    "        Journal = res.group(2)\n",
    "        Date = str(datetime.strptime(res.group(3),'%d.%m.%Y'))\n",
    "        Piece_Number = res.group(4)\n",
    "        Reference = res.group(5)\n",
    "        S = res.group(6)\n",
    "        Debit = res.group(7)\n",
    "        if res2:\n",
    "            Credit = res2.group(1)\n",
    "            Total = res2.group(2)\n",
    "        else:\n",
    "            deb = debit_regex.search(line)\n",
    "            if deb:\n",
    "                Debit = deb.group(1)\n",
    "                Total = np.NaN\n",
    "            else:\n",
    "                Debit = np.NaN\n",
    "                Total = np.NaN\n",
    "            crd = credit_regex.search(line)\n",
    "            if crd:\n",
    "                Credit = crd.group(1)\n",
    "                Total = np.NaN\n",
    "            else:\n",
    "                Credit = np.NaN\n",
    "                Total = np.NaN\n",
    "                \n",
    "#         print(accNumber,N_Mvt,Journal,Date,Piece_Number,Reference,S,Debit,Credit,Total)\n",
    "            \n",
    "    elif(res3):\n",
    "        res4 = total_credit_debit_1.search(line)\n",
    "        res5 = no_total_credit_debit_2.search(line)\n",
    "        if res4:\n",
    "            N_Mvt = np.NaN\n",
    "            Journal = np.NaN\n",
    "            Date = np.NaN\n",
    "            Piece_Number = np.NaN\n",
    "            S = np.NaN\n",
    "            Reference = res4.group(1)\n",
    "            Debit = res4.group(2)\n",
    "            Credit = res4.group(3)\n",
    "            Total = res4.group(4)\n",
    "        elif res5:\n",
    "            N_Mvt = np.NaN\n",
    "            Journal = np.NaN\n",
    "            Date = np.NaN\n",
    "            Piece_Number = np.NaN\n",
    "            S = np.NaN\n",
    "            Reference = res5.group(1)\n",
    "            Debit = res5.group(2)\n",
    "            Credit = res5.group(3)\n",
    "            Total = np.NaN\n",
    "    else:\n",
    "        continue\n",
    "        \n",
    "    pdfData.append(data(accNumber,N_Mvt,Journal,Date,Piece_Number,S,Reference,Debit,Credit,Total))"
   ]
  },
  {
   "cell_type": "code",
   "execution_count": 72,
   "id": "eb5f3efe",
   "metadata": {},
   "outputs": [
    {
     "data": {
      "text/plain": [
       "1905"
      ]
     },
     "execution_count": 72,
     "metadata": {},
     "output_type": "execute_result"
    }
   ],
   "source": [
    "len(pdfData)"
   ]
  },
  {
   "cell_type": "code",
   "execution_count": 93,
   "id": "cbf9fdf9",
   "metadata": {
    "scrolled": true
   },
   "outputs": [],
   "source": [
    "df = pd.DataFrame(pdfData)\n",
    "df = df.drop_duplicates(keep='first')"
   ]
  },
  {
   "cell_type": "code",
   "execution_count": 96,
   "id": "d575218e",
   "metadata": {},
   "outputs": [],
   "source": [
    "df.to_csv(r'parced_data.csv', index=False)"
   ]
  },
  {
   "cell_type": "code",
   "execution_count": 95,
   "id": "11416c4e",
   "metadata": {},
   "outputs": [
    {
     "data": {
      "text/plain": [
       "(1679, 10)"
      ]
     },
     "execution_count": 95,
     "metadata": {},
     "output_type": "execute_result"
    }
   ],
   "source": [
    "df.shape"
   ]
  },
  {
   "cell_type": "code",
   "execution_count": null,
   "id": "1427c548",
   "metadata": {},
   "outputs": [],
   "source": []
  }
 ],
 "metadata": {
  "kernelspec": {
   "display_name": "Python 3",
   "language": "python",
   "name": "python3"
  },
  "language_info": {
   "codemirror_mode": {
    "name": "ipython",
    "version": 3
   },
   "file_extension": ".py",
   "mimetype": "text/x-python",
   "name": "python",
   "nbconvert_exporter": "python",
   "pygments_lexer": "ipython3",
   "version": "3.10.3"
  }
 },
 "nbformat": 4,
 "nbformat_minor": 5
}
